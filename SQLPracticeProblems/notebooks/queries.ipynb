{
 "cells": [
  {
   "cell_type": "code",
   "execution_count": 1,
   "metadata": {},
   "outputs": [],
   "source": [
    "import pandas as pd"
   ]
  },
  {
   "cell_type": "code",
   "execution_count": 224,
   "metadata": {},
   "outputs": [],
   "source": [
    "customers = pd.read_csv('../data/01_raw/Customers.csv', sep=';', decimal=',')\n",
    "\n",
    "orders = pd.read_csv('../data/01_raw/Orders.csv', sep=';', decimal=',')\n",
    "\n",
    "# convert to date time format\n",
    "orders.OrderDate = pd.to_datetime(orders[\"OrderDate\"])\n",
    "\n",
    "# get year column as it is used often\n",
    "orders[\"OrderYear\"] = orders['OrderDate'].dt.year\n",
    "\n",
    "order_details = pd.read_csv('../data/01_raw/OrderDetails.csv', sep=';', decimal=',')\n",
    "order_details['orderTotalValue'] = order_details.Quantity * order_details.UnitPrice"
   ]
  },
  {
   "cell_type": "code",
   "execution_count": 212,
   "metadata": {},
   "outputs": [],
   "source": [
    "orders_year = orders.loc[orders['OrderDate'].dt.year == 2016].reset_index(drop=True)\n",
    "orders_year = orders_year[[\"OrderID\", \"CustomerID\"]]\n",
    "\n",
    "\n",
    "order_details['orderTotalValue'] = order_details.Quantity * order_details.UnitPrice\n",
    "order_details = order_details[[\"OrderID\", \"UnitPrice\", \"Quantity\", \"orderTotalValue\"]]\n",
    "orders_with_order_details = order_details.merge(orders_year, on='OrderID')\n",
    "orders_with_order_details = orders_with_order_details[['CustomerID', \"OrderID\",'orderTotalValue']]\n",
    "\n",
    "orders_grouped = orders_with_order_details.groupby([\"CustomerID\", \"OrderID\"], as_index=False).sum()[[\"CustomerID\", \"orderTotalValue\"]]\n",
    "\n",
    "orders_grouped.sort_values(\"orderTotalValue\", ascending=False, inplace=True)\n",
    "orders_grouped = orders_grouped[orders_grouped[\"orderTotalValue\"] >= 10000]"
   ]
  },
  {
   "cell_type": "markdown",
   "metadata": {},
   "source": [
    "# Query 48"
   ]
  },
  {
   "cell_type": "code",
   "execution_count": 313,
   "metadata": {},
   "outputs": [],
   "source": [
    "# get customers for year 2016\n",
    "relevant_customers = orders[orders[\"OrderYear\"] == 2016].reset_index(drop=True)[\n",
    "    [\"OrderID\", \"CustomerID\"]\n",
    "]"
   ]
  },
  {
   "cell_type": "code",
   "execution_count": 314,
   "metadata": {},
   "outputs": [
    {
     "data": {
      "text/html": [
       "<div>\n",
       "<style scoped>\n",
       "    .dataframe tbody tr th:only-of-type {\n",
       "        vertical-align: middle;\n",
       "    }\n",
       "\n",
       "    .dataframe tbody tr th {\n",
       "        vertical-align: top;\n",
       "    }\n",
       "\n",
       "    .dataframe thead th {\n",
       "        text-align: right;\n",
       "    }\n",
       "</style>\n",
       "<table border=\"1\" class=\"dataframe\">\n",
       "  <thead>\n",
       "    <tr style=\"text-align: right;\">\n",
       "      <th></th>\n",
       "      <th>CustomerID</th>\n",
       "      <th>orderTotalValue</th>\n",
       "    </tr>\n",
       "  </thead>\n",
       "  <tbody>\n",
       "    <tr>\n",
       "      <th>0</th>\n",
       "      <td>OLDWO</td>\n",
       "      <td>760.0</td>\n",
       "    </tr>\n",
       "    <tr>\n",
       "      <th>1</th>\n",
       "      <td>OLDWO</td>\n",
       "      <td>900.0</td>\n",
       "    </tr>\n",
       "    <tr>\n",
       "      <th>2</th>\n",
       "      <td>WELLI</td>\n",
       "      <td>140.0</td>\n",
       "    </tr>\n",
       "    <tr>\n",
       "      <th>3</th>\n",
       "      <td>LAUGB</td>\n",
       "      <td>42.0</td>\n",
       "    </tr>\n",
       "    <tr>\n",
       "      <th>4</th>\n",
       "      <td>LAUGB</td>\n",
       "      <td>70.0</td>\n",
       "    </tr>\n",
       "  </tbody>\n",
       "</table>\n",
       "</div>"
      ],
      "text/plain": [
       "  CustomerID  orderTotalValue\n",
       "0      OLDWO            760.0\n",
       "1      OLDWO            900.0\n",
       "2      WELLI            140.0\n",
       "3      LAUGB             42.0\n",
       "4      LAUGB             70.0"
      ]
     },
     "execution_count": 314,
     "metadata": {},
     "output_type": "execute_result"
    }
   ],
   "source": [
    "# merge tables to get customerID + orderTotalValue\n",
    "customer_values_flat = relevant_customers.merge(orders, on=\"OrderID\").merge(order_details, on=\"OrderID\")[\n",
    "    [\"CustomerID_x\", \"orderTotalValue\"]\n",
    "]\n",
    "customer_values_flat.rename(columns={\"CustomerID_x\": \"CustomerID\"}, inplace=True)\n",
    "customer_values_flat.head()"
   ]
  },
  {
   "cell_type": "code",
   "execution_count": 315,
   "metadata": {},
   "outputs": [
    {
     "data": {
      "text/html": [
       "<div>\n",
       "<style scoped>\n",
       "    .dataframe tbody tr th:only-of-type {\n",
       "        vertical-align: middle;\n",
       "    }\n",
       "\n",
       "    .dataframe tbody tr th {\n",
       "        vertical-align: top;\n",
       "    }\n",
       "\n",
       "    .dataframe thead th {\n",
       "        text-align: right;\n",
       "    }\n",
       "</style>\n",
       "<table border=\"1\" class=\"dataframe\">\n",
       "  <thead>\n",
       "    <tr style=\"text-align: right;\">\n",
       "      <th></th>\n",
       "      <th>CustomerID</th>\n",
       "      <th>orderTotalValue</th>\n",
       "    </tr>\n",
       "  </thead>\n",
       "  <tbody>\n",
       "    <tr>\n",
       "      <th>0</th>\n",
       "      <td>ALFKI</td>\n",
       "      <td>2302.20</td>\n",
       "    </tr>\n",
       "    <tr>\n",
       "      <th>1</th>\n",
       "      <td>ANATR</td>\n",
       "      <td>514.40</td>\n",
       "    </tr>\n",
       "    <tr>\n",
       "      <th>2</th>\n",
       "      <td>ANTON</td>\n",
       "      <td>660.00</td>\n",
       "    </tr>\n",
       "    <tr>\n",
       "      <th>3</th>\n",
       "      <td>AROUT</td>\n",
       "      <td>5838.50</td>\n",
       "    </tr>\n",
       "    <tr>\n",
       "      <th>4</th>\n",
       "      <td>BERGS</td>\n",
       "      <td>8110.55</td>\n",
       "    </tr>\n",
       "  </tbody>\n",
       "</table>\n",
       "</div>"
      ],
      "text/plain": [
       "  CustomerID  orderTotalValue\n",
       "0      ALFKI          2302.20\n",
       "1      ANATR           514.40\n",
       "2      ANTON           660.00\n",
       "3      AROUT          5838.50\n",
       "4      BERGS          8110.55"
      ]
     },
     "execution_count": 315,
     "metadata": {},
     "output_type": "execute_result"
    }
   ],
   "source": [
    "# get the total orderTotalValue per customer by grouping + summing\n",
    "customer_values_grouped = customer_values_flat.groupby(\"CustomerID\", as_index=False).sum()\n",
    "\n",
    "customer_values_grouped.head()"
   ]
  },
  {
   "cell_type": "code",
   "execution_count": 318,
   "metadata": {},
   "outputs": [],
   "source": [
    "# fill the grouping names\n",
    "\n",
    "# define the grouing ranges + default group name\n",
    "customer_groups = {\n",
    "    \"0-1000\":\"low\"\n",
    "    , \"1001-5000\":\"medium\"\n",
    "    , \"5001-10000\":\"high\"\n",
    "}\n",
    "default_customer_group = \"very high\"\n",
    "\n",
    "# fill the CustomerGroupNames using a loop\n",
    "for ranges, group_name in customer_groups.items():\n",
    "    range_from = int(ranges.split(\"-\")[0])\n",
    "    range_to =  int(ranges.split(\"-\")[1])\n",
    "    customer_values_grouped.loc[\n",
    "        customer_values_grouped['orderTotalValue'].between(\n",
    "            range_from, range_to, inclusive=True), 'CustomerGroup'\n",
    "    ] = group_name\n",
    "    \n",
    "# add the default CustomerGroup for value above 10000\n",
    "customer_values_grouped[\"CustomerGroup\"] = customer_values_grouped[\"CustomerGroup\"].fillna(default_customer_group)"
   ]
  },
  {
   "cell_type": "code",
   "execution_count": null,
   "metadata": {},
   "outputs": [],
   "source": [
    "# sort the result by CustomerID\n",
    "customer_values_grouped.sort_values(\"CustomerID\", inplace=True)"
   ]
  },
  {
   "cell_type": "code",
   "execution_count": 327,
   "metadata": {},
   "outputs": [
    {
     "data": {
      "text/html": [
       "<div>\n",
       "<style scoped>\n",
       "    .dataframe tbody tr th:only-of-type {\n",
       "        vertical-align: middle;\n",
       "    }\n",
       "\n",
       "    .dataframe tbody tr th {\n",
       "        vertical-align: top;\n",
       "    }\n",
       "\n",
       "    .dataframe thead th {\n",
       "        text-align: right;\n",
       "    }\n",
       "</style>\n",
       "<table border=\"1\" class=\"dataframe\">\n",
       "  <thead>\n",
       "    <tr style=\"text-align: right;\">\n",
       "      <th></th>\n",
       "      <th>CustomerID</th>\n",
       "      <th>CompanyName</th>\n",
       "      <th>orderTotalValue</th>\n",
       "      <th>CustomerGroup</th>\n",
       "    </tr>\n",
       "  </thead>\n",
       "  <tbody>\n",
       "    <tr>\n",
       "      <th>0</th>\n",
       "      <td>ALFKI</td>\n",
       "      <td>Alfreds Futterkiste</td>\n",
       "      <td>2302.20</td>\n",
       "      <td>medium</td>\n",
       "    </tr>\n",
       "    <tr>\n",
       "      <th>1</th>\n",
       "      <td>ANATR</td>\n",
       "      <td>Ana Trujillo Emparedados y helados</td>\n",
       "      <td>514.40</td>\n",
       "      <td>low</td>\n",
       "    </tr>\n",
       "    <tr>\n",
       "      <th>2</th>\n",
       "      <td>ANTON</td>\n",
       "      <td>Antonio Moreno Taquería</td>\n",
       "      <td>660.00</td>\n",
       "      <td>low</td>\n",
       "    </tr>\n",
       "    <tr>\n",
       "      <th>3</th>\n",
       "      <td>AROUT</td>\n",
       "      <td>Around the Horn</td>\n",
       "      <td>5838.50</td>\n",
       "      <td>high</td>\n",
       "    </tr>\n",
       "    <tr>\n",
       "      <th>4</th>\n",
       "      <td>BERGS</td>\n",
       "      <td>Berglunds snabbköp</td>\n",
       "      <td>8110.55</td>\n",
       "      <td>high</td>\n",
       "    </tr>\n",
       "  </tbody>\n",
       "</table>\n",
       "</div>"
      ],
      "text/plain": [
       "  CustomerID                         CompanyName  orderTotalValue  \\\n",
       "0      ALFKI                 Alfreds Futterkiste          2302.20   \n",
       "1      ANATR  Ana Trujillo Emparedados y helados           514.40   \n",
       "2      ANTON             Antonio Moreno Taquería           660.00   \n",
       "3      AROUT                     Around the Horn          5838.50   \n",
       "4      BERGS                  Berglunds snabbköp          8110.55   \n",
       "\n",
       "  CustomerGroup  \n",
       "0        medium  \n",
       "1           low  \n",
       "2           low  \n",
       "3          high  \n",
       "4          high  "
      ]
     },
     "execution_count": 327,
     "metadata": {},
     "output_type": "execute_result"
    }
   ],
   "source": [
    "# get final result with company name\n",
    "\n",
    "# join the customers table to get company name\n",
    "result = customers.merge(customer_values_grouped, on=\"CustomerID\")[\n",
    "    [\"CustomerID\", \"CompanyName\", \"orderTotalValue\", \"CustomerGroup\"]\n",
    "]\n",
    "result.head()"
   ]
  },
  {
   "cell_type": "code",
   "execution_count": 324,
   "metadata": {},
   "outputs": [],
   "source": []
  },
  {
   "cell_type": "code",
   "execution_count": null,
   "metadata": {},
   "outputs": [],
   "source": []
  },
  {
   "cell_type": "code",
   "execution_count": 299,
   "metadata": {},
   "outputs": [],
   "source": []
  },
  {
   "cell_type": "code",
   "execution_count": null,
   "metadata": {},
   "outputs": [],
   "source": []
  },
  {
   "cell_type": "code",
   "execution_count": null,
   "metadata": {},
   "outputs": [],
   "source": []
  },
  {
   "cell_type": "code",
   "execution_count": null,
   "metadata": {},
   "outputs": [],
   "source": []
  },
  {
   "cell_type": "code",
   "execution_count": null,
   "metadata": {},
   "outputs": [],
   "source": []
  },
  {
   "cell_type": "code",
   "execution_count": null,
   "metadata": {},
   "outputs": [],
   "source": []
  },
  {
   "cell_type": "code",
   "execution_count": null,
   "metadata": {},
   "outputs": [],
   "source": []
  },
  {
   "cell_type": "code",
   "execution_count": null,
   "metadata": {},
   "outputs": [],
   "source": []
  },
  {
   "cell_type": "code",
   "execution_count": null,
   "metadata": {},
   "outputs": [],
   "source": []
  },
  {
   "cell_type": "code",
   "execution_count": null,
   "metadata": {},
   "outputs": [],
   "source": []
  }
 ],
 "metadata": {
  "kernelspec": {
   "display_name": "Python 3",
   "language": "python",
   "name": "python3"
  },
  "language_info": {
   "codemirror_mode": {
    "name": "ipython",
    "version": 3
   },
   "file_extension": ".py",
   "mimetype": "text/x-python",
   "name": "python",
   "nbconvert_exporter": "python",
   "pygments_lexer": "ipython3",
   "version": "3.7.4"
  }
 },
 "nbformat": 4,
 "nbformat_minor": 2
}
