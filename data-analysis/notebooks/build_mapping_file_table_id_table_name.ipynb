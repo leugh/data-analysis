{
 "cells": [
  {
   "cell_type": "code",
   "execution_count": 5,
   "metadata": {},
   "outputs": [],
   "source": [
    "import pandas as pd\n",
    "import json\n",
    "from helpers import slugify, get_table_id"
   ]
  },
  {
   "cell_type": "code",
   "execution_count": 10,
   "metadata": {},
   "outputs": [],
   "source": [
    "path_to_dev_tables = '/Users/bleopold/OneDrive/data-analysis/vendors/WikiSQL/data/dev.tables.jsonl'\n",
    "base_target_path = \"/Users/bleopold/OneDrive/data-analysis/data-analysis/data/01_raw/wiki-sql/schema_infos\""
   ]
  },
  {
   "cell_type": "code",
   "execution_count": 11,
   "metadata": {},
   "outputs": [
    {
     "name": "stdout",
     "output_type": "stream",
     "text": [
      "saved mapping to: /Users/bleopold/OneDrive/data-analysis/data-analysis/data/01_raw/wiki-sql/schema_infos/mapping_table_id_table_name.csv\n"
     ]
    }
   ],
   "source": [
    "# the columns in the final mapping file\n",
    "columns_mapping_df = [\"table_id\", \"table_name\"]\n",
    "\n",
    "# the dataframe that will hold the mapping\n",
    "df_mapping_all_tables = pd.DataFrame(columns=columns_mapping_df)\n",
    "\n",
    "\n",
    "with open(path_to_dev_tables, 'r') as json_file:\n",
    "    json_list = list(json_file)\n",
    "    \n",
    "    \n",
    "for json_str in json_list[0:2]:\n",
    "    result = json.loads(json_str)\n",
    "    \n",
    "    # get table only if page_title exists\n",
    "    try:\n",
    "        page_title = result[\"page_title\"]\n",
    "        page_title = slugify(page_title)\n",
    "    except KeyError as e:\n",
    "        continue\n",
    "        \n",
    "    table_id = get_table_id(result)\n",
    "    \n",
    "    # store mapping between table_id and table_name\n",
    "    df_mapping_one_table = pd.DataFrame(\n",
    "        columns=columns_mapping_df, data=[[table_id, page_title]]\n",
    "    )\n",
    "    df_mapping_all_tables = df_mapping_one_table.append(df_mapping_one_table)\n",
    "\n",
    "# when done with looping over all entries save the mapping to disk\n",
    "path_for_mapping_csv = \"{}/mapping_table_id_table_name.csv\".format(base_target_path)\n",
    "df_mapping_all_tables.to_csv(\n",
    "    \"{}/mapping_table_id_table_name.csv\".format(base_target_path)\n",
    "    , sep='\\t'\n",
    "    , index=False\n",
    ")\n",
    "print(\"saved mapping to: {}\".format(path_for_mapping_csv))"
   ]
  },
  {
   "cell_type": "code",
   "execution_count": null,
   "metadata": {},
   "outputs": [],
   "source": []
  },
  {
   "cell_type": "code",
   "execution_count": null,
   "metadata": {},
   "outputs": [],
   "source": []
  },
  {
   "cell_type": "code",
   "execution_count": null,
   "metadata": {},
   "outputs": [],
   "source": []
  },
  {
   "cell_type": "code",
   "execution_count": null,
   "metadata": {},
   "outputs": [],
   "source": []
  },
  {
   "cell_type": "code",
   "execution_count": null,
   "metadata": {},
   "outputs": [],
   "source": []
  },
  {
   "cell_type": "code",
   "execution_count": null,
   "metadata": {},
   "outputs": [],
   "source": []
  },
  {
   "cell_type": "code",
   "execution_count": null,
   "metadata": {},
   "outputs": [],
   "source": [
    "\n",
    "\n",
    "\n",
    "\n",
    "\n",
    "\n",
    "        \n",
    "        \n",
    "    \n",
    "    \n",
    "    \n",
    "    \n"
   ]
  },
  {
   "cell_type": "code",
   "execution_count": null,
   "metadata": {},
   "outputs": [],
   "source": []
  },
  {
   "cell_type": "code",
   "execution_count": null,
   "metadata": {},
   "outputs": [],
   "source": []
  }
 ],
 "metadata": {
  "kernelspec": {
   "display_name": "Python 3",
   "language": "python",
   "name": "python3"
  },
  "language_info": {
   "codemirror_mode": {
    "name": "ipython",
    "version": 3
   },
   "file_extension": ".py",
   "mimetype": "text/x-python",
   "name": "python",
   "nbconvert_exporter": "python",
   "pygments_lexer": "ipython3",
   "version": "3.8.5"
  }
 },
 "nbformat": 4,
 "nbformat_minor": 4
}
