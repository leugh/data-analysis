{
 "cells": [
  {
   "cell_type": "markdown",
   "metadata": {},
   "source": [
    "In this file I am building the sql query based on what is returned from the model"
   ]
  },
  {
   "cell_type": "code",
   "execution_count": 1,
   "metadata": {},
   "outputs": [],
   "source": [
    "import json\n",
    "import pandas as pd"
   ]
  },
  {
   "cell_type": "code",
   "execution_count": 2,
   "metadata": {},
   "outputs": [],
   "source": [
    "path_text2sql_results = '/Users/bleopold/OneDrive/data-analysis/results_from_sqlova/results_dev.jsonl'\n",
    "\n",
    "path_dev_tables = '/Users/bleopold/OneDrive/data-analysis/vendors/WikiSQL/data/dev.tables.jsonl'"
   ]
  },
  {
   "cell_type": "code",
   "execution_count": 133,
   "metadata": {},
   "outputs": [],
   "source": [
    "condition_comparison_mapping = {\n",
    "    0: '='\n",
    "    , 1: '<'\n",
    "    , 2: '>'\n",
    "}\n",
    "\n",
    "\n",
    "aggregation_mapping = {\n",
    "    1: 'max'\n",
    "    , 2: 'min'\n",
    "    , 3: 'count'\n",
    "}"
   ]
  },
  {
   "cell_type": "markdown",
   "metadata": {},
   "source": [
    "# Get the data I need"
   ]
  },
  {
   "cell_type": "code",
   "execution_count": 3,
   "metadata": {},
   "outputs": [],
   "source": [
    "# get names of all the tables for which I have data\n",
    "with open(path_dev_tables, 'r') as json_file:\n",
    "    dev_tables_raw_file = list(json_file)\n",
    "\n",
    "tables_with_data = []\n",
    "\n",
    "for json_str in dev_tables_raw_file:\n",
    "    result = json.loads(json_str)\n",
    "    table_id = result[\"id\"]\n",
    "    \n",
    "    tables_with_data.append(table_id)"
   ]
  },
  {
   "cell_type": "code",
   "execution_count": 4,
   "metadata": {},
   "outputs": [],
   "source": [
    "# for all these tables I have a text to sql result\n",
    "with open(path_text2sql_results, 'r') as json_file:\n",
    "    text2sql_results_raw_file = list(json_file)\n",
    "\n",
    "tables_with_text2sql_result = []\n",
    "\n",
    "for json_str in text2sql_results_raw_file:\n",
    "    result = json.loads(json_str)\n",
    "    table_id = result[\"table_id\"]\n",
    "    \n",
    "    tables_with_text2sql_result.append(table_id)\n",
    "    \n",
    "tables_with_text2sql_result = list(set(tables_with_text2sql_result))"
   ]
  },
  {
   "cell_type": "code",
   "execution_count": 5,
   "metadata": {},
   "outputs": [],
   "source": [
    "# for all these tables I have data and a text to sql result\n",
    "\"\"\"\n",
    "get the intersect of tables_with_data and tables_with_text2sql_result\n",
    "\"\"\"\n",
    "ids_usable_tables = [_ for _ in tables_with_text2sql_result if _ in tables_with_data]"
   ]
  },
  {
   "cell_type": "code",
   "execution_count": 6,
   "metadata": {},
   "outputs": [
    {
     "data": {
      "text/html": [
       "<div>\n",
       "<style scoped>\n",
       "    .dataframe tbody tr th:only-of-type {\n",
       "        vertical-align: middle;\n",
       "    }\n",
       "\n",
       "    .dataframe tbody tr th {\n",
       "        vertical-align: top;\n",
       "    }\n",
       "\n",
       "    .dataframe thead th {\n",
       "        text-align: right;\n",
       "    }\n",
       "</style>\n",
       "<table border=\"1\" class=\"dataframe\">\n",
       "  <thead>\n",
       "    <tr style=\"text-align: right;\">\n",
       "      <th></th>\n",
       "      <th>table_id</th>\n",
       "      <th>table_name</th>\n",
       "    </tr>\n",
       "  </thead>\n",
       "  <tbody>\n",
       "    <tr>\n",
       "      <th>0</th>\n",
       "      <td>1-10015132-9</td>\n",
       "      <td>toronto_raptors_all-time_roster</td>\n",
       "    </tr>\n",
       "    <tr>\n",
       "      <th>1</th>\n",
       "      <td>1-10015132-9</td>\n",
       "      <td>toronto_raptors_all-time_roster</td>\n",
       "    </tr>\n",
       "  </tbody>\n",
       "</table>\n",
       "</div>"
      ],
      "text/plain": [
       "       table_id                       table_name\n",
       "0  1-10015132-9  toronto_raptors_all-time_roster\n",
       "1  1-10015132-9  toronto_raptors_all-time_roster"
      ]
     },
     "execution_count": 6,
     "metadata": {},
     "output_type": "execute_result"
    }
   ],
   "source": [
    "mapping_table_id_table_name = pd.read_csv(\n",
    "        \"../data/01_raw/wiki-sql/schema_infos/mapping_table_id_table_name.csv\"\n",
    "        ,  sep = '\\t'\n",
    "    )\n",
    "\n",
    "mapping_table_id_table_name"
   ]
  },
  {
   "cell_type": "markdown",
   "metadata": {},
   "source": [
    "# Define functions"
   ]
  },
  {
   "cell_type": "code",
   "execution_count": 85,
   "metadata": {},
   "outputs": [],
   "source": [
    "def get_table_name_for_table_id(table_id):\n",
    "    # holds the table_id in one column and the table_name in the other column\n",
    "    mapping_table_id_table_name = pd.read_csv(\n",
    "        \"../data/01_raw/wiki-sql/schema_infos/mapping_table_id_table_name.csv\"\n",
    "        ,  sep = '\\t'\n",
    "    )\n",
    "    \n",
    "    \n",
    "    # get the table_name using table_id\n",
    "    table_name = list(mapping_table_id_table_name[\n",
    "        mapping_table_id_table_name[\"table_id\"]==table_id\n",
    "    ][\"table_name\"])[0]\n",
    "    \n",
    "    \n",
    "    \n",
    "    return table_name"
   ]
  },
  {
   "cell_type": "code",
   "execution_count": 8,
   "metadata": {},
   "outputs": [],
   "source": [
    "def replace_enclosed_where_conditions_with_quotes(sql, condition_infos):\n",
    "    \"\"\"\n",
    "    example for condition_infos: [[3, 0, '4th, atlantic division']]\n",
    "    \n",
    "    place each condition in the array between dobles quotes\n",
    "    \"\"\"\n",
    "    for condition_info in condition_infos:\n",
    "        condition_value_orig = condition_info[2]\n",
    "        condition_value_quoted = \"'{}'\".format(condition_value_orig)\n",
    "        sql = sql.replace(condition_value_orig, condition_value_quoted)\n",
    "\n",
    "    return sql"
   ]
  },
  {
   "cell_type": "code",
   "execution_count": 9,
   "metadata": {},
   "outputs": [],
   "source": [
    "def insert_clean_column_names(sql, condition_infos, table_id):\n",
    "    mapping_column_names = pd.read_csv(\n",
    "        \"../data/01_raw/wiki-sql/schema_infos/information_schema.csv\"\n",
    "        ,  sep = '\\t'\n",
    "    )\n",
    "    \n",
    "    for condition_info in condition_infos:\n",
    "        column_order = condition_info[0]\n",
    "    \n",
    "    \n",
    "        column_name_original  = list(\n",
    "            mapping_column_names[\n",
    "                (mapping_column_names[\"table_id\"] == table_id)\n",
    "                &\n",
    "                (mapping_column_names[\"column_order\"] == column_order)\n",
    "            ][\"column_name_original\"]\n",
    "        )[0]\n",
    "\n",
    "        column_name_clean  = list(\n",
    "            mapping_column_names[\n",
    "                (mapping_column_names[\"table_id\"] == table_id)\n",
    "                &\n",
    "                (mapping_column_names[\"column_order\"] == column_order)\n",
    "            ][\"column_name_clean\"]\n",
    "        )[0]\n",
    "\n",
    "\n",
    "        sql = sql.replace(column_name_original, column_name_clean)\n",
    "        \n",
    "        \n",
    "    return sql"
   ]
  },
  {
   "cell_type": "code",
   "execution_count": 28,
   "metadata": {},
   "outputs": [],
   "source": [
    "def get_clean_column_name_for_column_id(column_id, table_id):\n",
    "    \"\"\"\n",
    "    column_id = Int\n",
    "    table_id = String\n",
    "    \"\"\"\n",
    "    inf_schema = pd.read_csv(\n",
    "        \"../data/01_raw/wiki-sql/schema_infos/information_schema.csv\"\n",
    "        , sep='\\t'\n",
    "    )\n",
    "    column_name_clean = list(\n",
    "        inf_schema[\n",
    "            (inf_schema[\"table_id\"] == table_id)\n",
    "            &\n",
    "            (inf_schema[\"column_order\"] == column_id)\n",
    "        ][\"column_name_clean\"]\n",
    "    )[0]\n",
    "    return column_name_clean"
   ]
  },
  {
   "cell_type": "code",
   "execution_count": null,
   "metadata": {},
   "outputs": [],
   "source": []
  },
  {
   "cell_type": "markdown",
   "metadata": {},
   "source": [
    "# Convert original sql to parse-able sql"
   ]
  },
  {
   "cell_type": "code",
   "execution_count": 152,
   "metadata": {},
   "outputs": [],
   "source": [
    "result = {'query': {'agg': 3, 'sel': 5, 'conds': [[1, 0, '3']]},\n",
    " 'table_id': '1-10015132-11',\n",
    " 'nlu': 'How many schools did player number 3 play at?',\n",
    " 'sql': 'SELECT count(School/Club Team) FROM 1-10015132-11 WHERE No. = 3'}"
   ]
  },
  {
   "cell_type": "code",
   "execution_count": 155,
   "metadata": {},
   "outputs": [
    {
     "name": "stdout",
     "output_type": "stream",
     "text": [
      " where years = '3'\n"
     ]
    }
   ],
   "source": [
    "table_id = '1-10015132-9'\n",
    "def get_complete_sql_query(result, table_id):\n",
    "    select_statement = get_select_statement(result, table_id)\n",
    "    from_statement = get_from_statement(table_id)\n",
    "    where_statement  = get_where_statement(result)\n",
    "    \n",
    "    print(where_statement)\n",
    "    \n",
    "get_complete_sql_query(result, table_id)"
   ]
  },
  {
   "cell_type": "code",
   "execution_count": 139,
   "metadata": {},
   "outputs": [],
   "source": [
    "def get_select_statement(result, table_id):\n",
    "    select_column_index = result[\"query\"].get('sel')\n",
    "    select_column_name = get_clean_column_name_for_column_id(select_column_index, table_id)\n",
    "\n",
    "    select_statement = 'select {}'.format(select_column_name)\n",
    "\n",
    "    # check if an aggregation exist\n",
    "    if result[\"query\"].get('agg') != 0:\n",
    "        aggregation_code = result[\"query\"].get('agg')\n",
    "        aggregation_value = aggregation_mapping.get(aggregation_code)\n",
    "        select_statement = 'select {}({})'.format(aggregation_value, select_column_name)\n",
    "\n",
    "\n",
    "    return select_statement"
   ]
  },
  {
   "cell_type": "code",
   "execution_count": 143,
   "metadata": {},
   "outputs": [],
   "source": [
    "def get_from_statement(table_id):\n",
    "    table_name = get_table_name_for_table_id(table_id)\n",
    "    from_statement = ' from {}'.format(table_name)\n",
    "    \n",
    "    return from_statement"
   ]
  },
  {
   "cell_type": "code",
   "execution_count": 150,
   "metadata": {},
   "outputs": [],
   "source": [
    "def get_where_statement(result):\n",
    "    conditions = result['query'].get('conds')\n",
    "    condition_statements = []\n",
    "    condition_statements_separator = ' and '\n",
    "\n",
    "    for condition in conditions:\n",
    "        condition_statement = get_individual_conditions(condition)\n",
    "        condition_statements.append(condition_statement)\n",
    "\n",
    "\n",
    "    return ' where {}'.format(condition_statements_separator.join(condition_statements))"
   ]
  },
  {
   "cell_type": "code",
   "execution_count": 147,
   "metadata": {},
   "outputs": [],
   "source": [
    "def get_individual_conditions(condition):\n",
    "    condition_column_index = condition[0]\n",
    "    condition_column_name = get_clean_column_name_for_column_id(\n",
    "        condition_column_index, '2-12601141-1'\n",
    "    )\n",
    "\n",
    "    condition_comparison_code = condition[1]\n",
    "    condition_comparison_value = condition_comparison_mapping.get(condition_comparison_code)\n",
    "\n",
    "    condition_content = \"'{}'\".format(condition[2])\n",
    "    \n",
    "    \n",
    "    condition_statement = '{} {} {}'.format(\n",
    "        condition_column_name, condition_comparison_value, condition_content\n",
    "    )\n",
    "    \n",
    "    return condition_statement"
   ]
  },
  {
   "cell_type": "markdown",
   "metadata": {},
   "source": [
    "# Probleme\n",
    "* Query selber bauen? replacing ist gefährlich\n",
    "* toronto_raptors_all-time_roster nicht korrekt slugified\n",
    "* selects dürfen nicht in klammer sein + müssen slugified sein --> ACHTUNG: darf kein einfaches replace sein nur auf den spaltennamen, weil dder spaltennamen in der tabelle auch stehen könnte --> replace auf inkl \"select\" + das aggregation (zB count)\n",
    "* Probleme mit case-sensitive"
   ]
  },
  {
   "cell_type": "markdown",
   "metadata": {},
   "source": [
    "# Aufgaben \n",
    "* get_complete_sql_query(result, table_id) zum laufen bringen"
   ]
  },
  {
   "cell_type": "code",
   "execution_count": null,
   "metadata": {},
   "outputs": [],
   "source": []
  },
  {
   "cell_type": "code",
   "execution_count": null,
   "metadata": {},
   "outputs": [],
   "source": []
  },
  {
   "cell_type": "code",
   "execution_count": null,
   "metadata": {},
   "outputs": [],
   "source": []
  },
  {
   "cell_type": "code",
   "execution_count": null,
   "metadata": {},
   "outputs": [],
   "source": []
  },
  {
   "cell_type": "code",
   "execution_count": null,
   "metadata": {},
   "outputs": [],
   "source": []
  },
  {
   "cell_type": "code",
   "execution_count": null,
   "metadata": {},
   "outputs": [],
   "source": []
  },
  {
   "cell_type": "code",
   "execution_count": null,
   "metadata": {},
   "outputs": [],
   "source": []
  },
  {
   "cell_type": "code",
   "execution_count": null,
   "metadata": {},
   "outputs": [],
   "source": []
  },
  {
   "cell_type": "code",
   "execution_count": null,
   "metadata": {},
   "outputs": [],
   "source": []
  }
 ],
 "metadata": {
  "kernelspec": {
   "display_name": "Python 3",
   "language": "python",
   "name": "python3"
  },
  "language_info": {
   "codemirror_mode": {
    "name": "ipython",
    "version": 3
   },
   "file_extension": ".py",
   "mimetype": "text/x-python",
   "name": "python",
   "nbconvert_exporter": "python",
   "pygments_lexer": "ipython3",
   "version": "3.8.5"
  }
 },
 "nbformat": 4,
 "nbformat_minor": 2
}
