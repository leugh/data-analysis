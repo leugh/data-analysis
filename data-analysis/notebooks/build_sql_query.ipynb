{
 "cells": [
  {
   "cell_type": "markdown",
   "metadata": {},
   "source": [
    "In this file I am building the sql query based on what is returned from the model"
   ]
  },
  {
   "cell_type": "code",
   "execution_count": 1,
   "metadata": {},
   "outputs": [],
   "source": [
    "import json\n",
    "import pandas as pd"
   ]
  },
  {
   "cell_type": "code",
   "execution_count": 2,
   "metadata": {},
   "outputs": [],
   "source": [
    "path_text2sql_results = '/Users/bleopold/OneDrive/data-analysis/results_from_sqlova/results_dev.jsonl'\n",
    "\n",
    "path_dev_tables = '/Users/bleopold/OneDrive/data-analysis/vendors/WikiSQL/data/dev.tables.jsonl'"
   ]
  },
  {
   "cell_type": "code",
   "execution_count": 3,
   "metadata": {},
   "outputs": [],
   "source": [
    "condition_comparison_mapping = {\n",
    "    0: '='\n",
    "    , 1: '<'\n",
    "    , 2: '>'\n",
    "}\n",
    "\n",
    "\n",
    "aggregation_mapping = {\n",
    "    1: 'max'\n",
    "    , 2: 'min'\n",
    "    , 3: 'count'\n",
    "}"
   ]
  },
  {
   "cell_type": "markdown",
   "metadata": {},
   "source": [
    "# Get the data I need"
   ]
  },
  {
   "cell_type": "code",
   "execution_count": 4,
   "metadata": {},
   "outputs": [],
   "source": [
    "# get names of all the tables for which I have data\n",
    "with open(path_dev_tables, 'r') as json_file:\n",
    "    dev_tables_raw_file = list(json_file)\n",
    "\n",
    "tables_with_data = []\n",
    "\n",
    "for json_str in dev_tables_raw_file:\n",
    "    result = json.loads(json_str)\n",
    "    table_id = result[\"id\"]\n",
    "    \n",
    "    tables_with_data.append(table_id)"
   ]
  },
  {
   "cell_type": "code",
   "execution_count": 5,
   "metadata": {},
   "outputs": [],
   "source": [
    "# for all these tables I have a text to sql result\n",
    "with open(path_text2sql_results, 'r') as json_file:\n",
    "    text2sql_results_raw_file = list(json_file)\n",
    "\n",
    "tables_with_text2sql_result = []\n",
    "\n",
    "for json_str in text2sql_results_raw_file:\n",
    "    result = json.loads(json_str)\n",
    "    table_id = result[\"table_id\"]\n",
    "    \n",
    "    tables_with_text2sql_result.append(table_id)\n",
    "    \n",
    "tables_with_text2sql_result = list(set(tables_with_text2sql_result))"
   ]
  },
  {
   "cell_type": "code",
   "execution_count": 6,
   "metadata": {},
   "outputs": [],
   "source": [
    "# for all these tables I have data and a text to sql result\n",
    "\"\"\"\n",
    "get the intersect of tables_with_data and tables_with_text2sql_result\n",
    "\"\"\"\n",
    "ids_usable_tables = [_ for _ in tables_with_text2sql_result if _ in tables_with_data]"
   ]
  },
  {
   "cell_type": "markdown",
   "metadata": {},
   "source": [
    "# Define functions"
   ]
  },
  {
   "cell_type": "code",
   "execution_count": 8,
   "metadata": {},
   "outputs": [],
   "source": [
    "def get_clean_column_name_for_column_id(column_id, table_id):\n",
    "    \"\"\"\n",
    "    column_id = Int\n",
    "    table_id = String\n",
    "    \"\"\"\n",
    "    inf_schema = pd.read_csv(\n",
    "        \"../data/01_raw/wiki-sql/schema_infos/information_schema.csv\"\n",
    "        , sep='\\t'\n",
    "    )\n",
    "    column_name_clean = list(\n",
    "        inf_schema[\n",
    "            (inf_schema[\"table_id\"] == table_id)\n",
    "            &\n",
    "            (inf_schema[\"column_order\"] == column_id)\n",
    "        ][\"column_name_clean\"]\n",
    "    )[0]\n",
    "    return column_name_clean"
   ]
  },
  {
   "cell_type": "code",
   "execution_count": 9,
   "metadata": {},
   "outputs": [],
   "source": [
    "def get_select_statement(result, table_id):\n",
    "    select_column_index = result[\"query\"].get('sel')\n",
    "    select_column_name = get_clean_column_name_for_column_id(select_column_index, table_id)\n",
    "\n",
    "    select_statement = 'select {}'.format(select_column_name)\n",
    "\n",
    "    # check if an aggregation exist\n",
    "    if result[\"query\"].get('agg') != 0:\n",
    "        aggregation_code = result[\"query\"].get('agg')\n",
    "        aggregation_value = aggregation_mapping.get(aggregation_code)\n",
    "        select_statement = 'select {}({})'.format(aggregation_value, select_column_name)\n",
    "\n",
    "\n",
    "    return select_statement"
   ]
  },
  {
   "cell_type": "code",
   "execution_count": 10,
   "metadata": {},
   "outputs": [],
   "source": [
    "def get_from_statement(table_id):\n",
    "    table_name = get_table_name_for_table_id(table_id)\n",
    "    from_statement = ' from {}'.format(table_name)\n",
    "    \n",
    "    return from_statement"
   ]
  },
  {
   "cell_type": "code",
   "execution_count": 11,
   "metadata": {},
   "outputs": [],
   "source": [
    "def get_where_statement(result, table_id):\n",
    "    conditions = result['query'].get('conds')\n",
    "    condition_statements = []\n",
    "    condition_statements_separator = ' and '\n",
    "\n",
    "    for condition in conditions:\n",
    "        condition_statement = get_individual_conditions(condition, table_id)\n",
    "        condition_statements.append(condition_statement)\n",
    "\n",
    "\n",
    "    return ' where {}'.format(condition_statements_separator.join(condition_statements))"
   ]
  },
  {
   "cell_type": "code",
   "execution_count": 12,
   "metadata": {},
   "outputs": [],
   "source": [
    "def get_individual_conditions(condition, table_id):\n",
    "    condition_column_index = condition[0]\n",
    "    condition_column_name = get_clean_column_name_for_column_id(\n",
    "        condition_column_index, table_id\n",
    "    )\n",
    "\n",
    "    condition_comparison_code = condition[1]\n",
    "    condition_comparison_value = condition_comparison_mapping.get(condition_comparison_code)\n",
    "\n",
    "    condition_content = \"'{}'\".format(condition[2])\n",
    "    \n",
    "    \n",
    "    condition_statement = '{} {} {}'.format(\n",
    "        condition_column_name, condition_comparison_value, condition_content\n",
    "    )\n",
    "    \n",
    "    return condition_statement"
   ]
  },
  {
   "cell_type": "markdown",
   "metadata": {},
   "source": [
    "# Convert original sql to parse-able sql"
   ]
  },
  {
   "cell_type": "code",
   "execution_count": 13,
   "metadata": {},
   "outputs": [],
   "source": [
    "result = {'query': {'agg': 3, 'sel': 5, 'conds': [[1, 0, '3']]},\n",
    " 'table_id': '1-10015132-11',\n",
    " 'nlu': 'How many schools did player number 3 play at?',\n",
    " 'sql': 'SELECT count(School/Club Team) FROM 1-10015132-11 WHERE No. = 3'}"
   ]
  },
  {
   "cell_type": "code",
   "execution_count": 16,
   "metadata": {},
   "outputs": [
    {
     "name": "stdout",
     "output_type": "stream",
     "text": [
      "select count(schoolclub_team)  from toronto_raptors_all_time_roster  where no = '3'\n"
     ]
    }
   ],
   "source": [
    "table_id = '1-10015132-9'\n",
    "def get_complete_sql_query(result, table_id):\n",
    "    select_statement = get_select_statement(result, table_id)\n",
    "    from_statement = get_from_statement(table_id)\n",
    "    where_statement  = get_where_statement(result, table_id)\n",
    "    \n",
    "    print(select_statement, from_statement, where_statement)\n",
    "    \n",
    "get_complete_sql_query(result, table_id)"
   ]
  },
  {
   "cell_type": "code",
   "execution_count": 15,
   "metadata": {},
   "outputs": [
    {
     "data": {
      "text/plain": [
       "{'query': {'agg': 3, 'sel': 5, 'conds': [[1, 0, '3']]},\n",
       " 'table_id': '1-10015132-11',\n",
       " 'nlu': 'How many schools did player number 3 play at?',\n",
       " 'sql': 'SELECT count(School/Club Team) FROM 1-10015132-11 WHERE No. = 3'}"
      ]
     },
     "execution_count": 15,
     "metadata": {},
     "output_type": "execute_result"
    }
   ],
   "source": [
    "result"
   ]
  },
  {
   "cell_type": "markdown",
   "metadata": {},
   "source": [
    "# Aufgaben \n",
    "* get_complete_sql_query(result, table_id) zum laufen bringen"
   ]
  },
  {
   "cell_type": "code",
   "execution_count": null,
   "metadata": {},
   "outputs": [],
   "source": []
  },
  {
   "cell_type": "code",
   "execution_count": null,
   "metadata": {},
   "outputs": [],
   "source": []
  },
  {
   "cell_type": "code",
   "execution_count": null,
   "metadata": {},
   "outputs": [],
   "source": []
  },
  {
   "cell_type": "code",
   "execution_count": null,
   "metadata": {},
   "outputs": [],
   "source": []
  },
  {
   "cell_type": "code",
   "execution_count": null,
   "metadata": {},
   "outputs": [],
   "source": []
  },
  {
   "cell_type": "code",
   "execution_count": null,
   "metadata": {},
   "outputs": [],
   "source": []
  },
  {
   "cell_type": "code",
   "execution_count": null,
   "metadata": {},
   "outputs": [],
   "source": []
  },
  {
   "cell_type": "code",
   "execution_count": null,
   "metadata": {},
   "outputs": [],
   "source": []
  },
  {
   "cell_type": "code",
   "execution_count": null,
   "metadata": {},
   "outputs": [],
   "source": []
  }
 ],
 "metadata": {
  "kernelspec": {
   "display_name": "Python 3",
   "language": "python",
   "name": "python3"
  },
  "language_info": {
   "codemirror_mode": {
    "name": "ipython",
    "version": 3
   },
   "file_extension": ".py",
   "mimetype": "text/x-python",
   "name": "python",
   "nbconvert_exporter": "python",
   "pygments_lexer": "ipython3",
   "version": "3.8.5"
  }
 },
 "nbformat": 4,
 "nbformat_minor": 2
}
