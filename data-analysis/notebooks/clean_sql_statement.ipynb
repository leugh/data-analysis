{
 "cells": [
  {
   "cell_type": "markdown",
   "metadata": {},
   "source": [
    "In this notebook I am building the logic that converts the raw sql into a sql that can be processed.\n",
    "\n",
    "Example: \n",
    "Convert \"'SELECT (U.S. Open Cup) FROM 1-1046170-5 WHERE Regular Season = 4th, atlantic division' (the original sql\" to \"\""
   ]
  },
  {
   "cell_type": "code",
   "execution_count": 1,
   "metadata": {},
   "outputs": [],
   "source": [
    "import json\n",
    "import pandas as pd"
   ]
  },
  {
   "cell_type": "code",
   "execution_count": 2,
   "metadata": {},
   "outputs": [],
   "source": [
    "\"\"\"\n",
    "each entry in path_text2sql_results contains:\n",
    "\n",
    "- the final sql\n",
    "- all components of the sql (selects, conditions aggregations..)\n",
    "- table-id for the sql\n",
    "- the human-readable question for the sql\n",
    "\n",
    "## [[3, 0, '4th, atlantic division']]}\n",
    "3 = column index\n",
    "0 = {1, 2} for {<, >}\n",
    "\"'4th, atlantic division'\"  = content of where-clause\n",
    "\n",
    "\"\"\"\n",
    "\n",
    "\n",
    "path_text2sql_results = '/Users/bleopold/OneDrive/data-analysis/results_from_sqlova/results_dev.jsonl'\n",
    "\n",
    "path_dev_tables = '/Users/bleopold/OneDrive/data-analysis/vendors/WikiSQL/data/dev.tables.jsonl'"
   ]
  },
  {
   "cell_type": "markdown",
   "metadata": {},
   "source": [
    "# Get the data I need"
   ]
  },
  {
   "cell_type": "code",
   "execution_count": 3,
   "metadata": {},
   "outputs": [],
   "source": [
    "# get names of all the tables for which I have data\n",
    "with open(path_dev_tables, 'r') as json_file:\n",
    "    dev_tables_raw_file = list(json_file)\n",
    "\n",
    "tables_with_data = []\n",
    "\n",
    "for json_str in dev_tables_raw_file:\n",
    "    result = json.loads(json_str)\n",
    "    table_id = result[\"id\"]\n",
    "    \n",
    "    tables_with_data.append(table_id)"
   ]
  },
  {
   "cell_type": "code",
   "execution_count": 4,
   "metadata": {},
   "outputs": [],
   "source": [
    "# for all these tables I have a text to sql result\n",
    "with open(path_text2sql_results, 'r') as json_file:\n",
    "    text2sql_results_raw_file = list(json_file)\n",
    "\n",
    "tables_with_text2sql_result = []\n",
    "\n",
    "for json_str in text2sql_results_raw_file:\n",
    "    result = json.loads(json_str)\n",
    "    table_id = result[\"table_id\"]\n",
    "    \n",
    "    tables_with_text2sql_result.append(table_id)\n",
    "    \n",
    "tables_with_text2sql_result = list(set(tables_with_text2sql_result))"
   ]
  },
  {
   "cell_type": "code",
   "execution_count": 5,
   "metadata": {},
   "outputs": [],
   "source": [
    "# for all these tables I have data and a text to sql result\n",
    "\"\"\"\n",
    "get the intersect of tables_with_data and tables_with_text2sql_result\n",
    "\"\"\"\n",
    "ids_usable_tables = [_ for _ in tables_with_text2sql_result if _ in tables_with_data]"
   ]
  },
  {
   "cell_type": "markdown",
   "metadata": {},
   "source": [
    "# Define functions"
   ]
  },
  {
   "cell_type": "code",
   "execution_count": 17,
   "metadata": {},
   "outputs": [],
   "source": [
    "def replace_table_id_with_table_name_in_sql(sql, table_id):\n",
    "    # holds the table_id in one column and the table_name in the other column\n",
    "    mapping_table_id_table_name = pd.read_csv(\n",
    "        \"../data/01_raw/wiki-sql/schema_infos/mapping_table_id_table_name.csv\"\n",
    "        ,  sep = '\\t'\n",
    "    )\n",
    "    \n",
    "    \n",
    "    # get the table_name using table_id\n",
    "    table_name = list(mapping_table_id_table_name[\n",
    "        mapping_table_id_table_name[\"table_id\"]==table_id\n",
    "    ][\"table_name\"])[0]\n",
    "    \n",
    "    \n",
    "    \n",
    "    # replace table_id for table_name in the original sql\n",
    "    sql_clean_table_name = sql.replace(table_id, table_name)\n",
    "    \n",
    "    return sql_clean_table_name"
   ]
  },
  {
   "cell_type": "code",
   "execution_count": 18,
   "metadata": {},
   "outputs": [],
   "source": [
    "def replace_enclosed_where_conditions_with_quotes(sql, condition_infos):\n",
    "    \"\"\"\n",
    "    example for condition_infos: [[3, 0, '4th, atlantic division']]\n",
    "    \n",
    "    place each condition in the array between dobles quotes\n",
    "    \"\"\"\n",
    "    for condition_info in condition_infos:\n",
    "        condition_value_orig = condition_info[2]\n",
    "        condition_value_quoted = \"'{}'\".format(condition_value_orig)\n",
    "        sql = sql.replace(condition_value_orig, condition_value_quoted)\n",
    "\n",
    "    return sql"
   ]
  },
  {
   "cell_type": "code",
   "execution_count": 19,
   "metadata": {},
   "outputs": [],
   "source": [
    "def insert_clean_column_names(sql, condition_infos, table_id):\n",
    "    mapping_column_names = pd.read_csv(\n",
    "        \"../data/01_raw/wiki-sql/schema_infos/mapping_column_names.csv\"\n",
    "        ,  sep = '\\t'\n",
    "    )\n",
    "    \n",
    "    for condition_info in condition_infos:\n",
    "        column_order = condition_info[0]\n",
    "    \n",
    "    \n",
    "        column_name_original  = list(\n",
    "            mapping_column_names[\n",
    "                (mapping_column_names[\"table_id\"] == table_id)\n",
    "                &\n",
    "                (mapping_column_names[\"column_order\"] == column_order)\n",
    "            ][\"column_name_original\"]\n",
    "        )[0]\n",
    "\n",
    "        column_name_clean  = list(\n",
    "            mapping_column_names[\n",
    "                (mapping_column_names[\"table_id\"] == table_id)\n",
    "                &\n",
    "                (mapping_column_names[\"column_order\"] == column_order)\n",
    "            ][\"column_name_clean\"]\n",
    "        )[0]\n",
    "\n",
    "\n",
    "        sql = sql.replace(column_name_original, column_name_clean)\n",
    "        \n",
    "        \n",
    "    return sql"
   ]
  },
  {
   "cell_type": "markdown",
   "metadata": {},
   "source": [
    "# Convert original sql to parse-able sql"
   ]
  },
  {
   "cell_type": "code",
   "execution_count": 23,
   "metadata": {
    "collapsed": true
   },
   "outputs": [
    {
     "name": "stdout",
     "output_type": "stream",
     "text": [
      "SELECT (Position) FROM 1-10015132-11 WHERE School/Club Team = butler cc (ks)\n",
      "SELECT (Position) FROM toronto_raptors_all-time_roster WHERE schoolclub_team = 'butler cc (ks)'\n",
      "\n",
      "\n",
      "SELECT count(School/Club Team) FROM 1-10015132-11 WHERE No. = 3\n",
      "SELECT count(School/Club Team) FROM toronto_raptors_all-time_roster WHERE no = '3'\n",
      "\n",
      "\n",
      "SELECT (School/Club Team) FROM 1-10015132-11 WHERE No. = 21\n",
      "SELECT (School/Club Team) FROM toronto_raptors_all-time_roster WHERE no = '21'\n",
      "\n",
      "\n",
      "SELECT (Player) FROM 1-10015132-11 WHERE No. = 42\n",
      "SELECT (Player) FROM toronto_raptors_all-time_roster WHERE no = '42'\n",
      "\n",
      "\n",
      "SELECT (Player) FROM 1-10015132-11 WHERE Position = guard AND Years in Toronto = 1996-97\n",
      "SELECT (Player) FROM toronto_raptors_all-time_roster WHERE position = 'guard' AND years_in_toronto = '1996-97'\n",
      "\n",
      "\n",
      "SELECT (Player) FROM 1-10015132-9 WHERE School/Club Team = westchester high school\n",
      "SELECT (Player) FROM toronto_raptors_all-time_roster WHERE schoolclub_team = 'westchester high school'\n",
      "\n",
      "\n",
      "SELECT (School/Club Team) FROM 1-10015132-9 WHERE Player = amir johnson\n",
      "SELECT (School/Club Team) FROM toronto_raptors_all-time_roster WHERE player = 'amir johnson'\n",
      "\n",
      "\n",
      "SELECT count(No.) FROM 1-10015132-9 WHERE Years in Toronto = 2005-06\n",
      "SELECT count(No.) FROM toronto_raptors_all-time_roster WHERE years_in_toronto = '2005-06'\n",
      "\n",
      "\n",
      "SELECT count(Position) FROM 1-10015132-9 WHERE Years in Toronto = 2006-07\n",
      "SELECT count(Position) FROM toronto_raptors_all-time_roster WHERE years_in_toronto = '2006-07'\n",
      "\n",
      "\n",
      "SELECT (Nationality) FROM 1-10015132-9 WHERE School/Club Team = fresno state\n",
      "SELECT (Nationality) FROM toronto_raptors_all-time_roster WHERE schoolclub_team = 'fresno state'\n",
      "\n",
      "\n",
      "SELECT (School/Club Team) FROM 1-10015132-9 WHERE Player = trey johnson\n",
      "SELECT (School/Club Team) FROM toronto_raptors_all-time_roster WHERE player = 'trey johnson'\n",
      "\n",
      "\n",
      "SELECT (Ended time as senior G8 leader) FROM 1-10026563-1 WHERE Person = jacques chirac\n",
      "SELECT (Ended time as senior G8 leader) FROM list_of_longest-serving_g8_leaders WHERE person = 'jacques chirac'\n",
      "\n",
      "\n",
      "SELECT (Office) FROM 1-10026563-1 WHERE Person = prime minister of italy\n",
      "SELECT (Office) FROM list_of_longest-serving_g8_leaders WHERE person = 'prime minister of italy'\n",
      "\n",
      "\n",
      "SELECT min(Ties played) FROM 1-10295819-2 WHERE Years played = 6\n",
      "SELECT min(Ties played) FROM lithuania_davis_cup_team WHERE years_played = '6'\n",
      "\n",
      "\n",
      "SELECT (in Ames) FROM 1-10429820-13 WHERE Iowa State vs. = its'\n",
      "SELECT (in Ames) FROM iowa_state_cyclones_mens_basketball WHERE iowa_state_vs = 'its''\n",
      "\n",
      "\n",
      "SELECT (U.S. Open Cup) FROM 1-1046170-5 WHERE Regular Season = 4th, atlantic division\n",
      "SELECT (U.S. Open Cup) FROM richmond_kickers WHERE regular_season = '4th, atlantic division'\n",
      "\n",
      "\n",
      "SELECT count(Division) FROM 1-1046170-5 WHERE Year = 2003\n",
      "SELECT count(Division) FROM richmond_kickers WHERE year = '2003'\n",
      "\n",
      "\n",
      "SELECT (Playoffs) FROM 1-1046170-5 WHERE U.S. Open Cup = division semifinals\n",
      "SELECT (Playoffs) FROM richmond_kickers WHERE us_open_cup = 'division semifinals'\n",
      "\n",
      "\n",
      "SELECT (Playoffs) FROM 1-1046170-5 WHERE Regular Season = 1st, atlantic division\n",
      "SELECT (Playoffs) FROM richmond_kickers WHERE regular_season = '1st, atlantic division'\n",
      "\n",
      "\n",
      "SELECT (Playoffs) FROM 1-1046170-5 WHERE U.S. Open Cup = 1st round\n",
      "SELECT (Playoffs) FROM richmond_kickers WHERE us_open_cup = '1st round'\n",
      "\n",
      "\n",
      "SELECT count(2nd leg) FROM 1-1061075-1 WHERE Aggregate = 7-2\n",
      "SELECT count(2nd leg) FROM fc_sion WHERE aggregate = '7-2'\n",
      "\n",
      "\n",
      "SELECT (Aggregate) FROM 1-1061075-1 WHERE 1st leg = 3–2\n",
      "SELECT (Aggregate) FROM fc_sion WHERE 1st_leg = '3–2'\n",
      "\n",
      "\n",
      "SELECT (Competition) FROM 1-1061075-1 WHERE Aggregate = 4–7\n",
      "SELECT (Competition) FROM fc_sion WHERE aggregate = '4–7'\n",
      "\n",
      "\n",
      "SELECT (Competition) FROM 1-1061075-1 WHERE 1st leg = 4-1 (h)\n",
      "SELECT (Competition) FROM fc_sion WHERE 1st_leg = '4-1 (h)'\n",
      "\n",
      "\n",
      "SELECT count(Round) FROM 1-1061075-1 WHERE Opponents = haugar\n",
      "SELECT count(Round) FROM fc_sion WHERE opponents = 'haugar'\n",
      "\n",
      "\n",
      "SELECT (1st leg) FROM 1-1061075-1 WHERE Opponents = galatasaray\n",
      "SELECT (1st leg) FROM fc_sion WHERE opponents = 'galatasaray'\n",
      "\n",
      "\n"
     ]
    }
   ],
   "source": [
    "# get one sql/table for testing\n",
    "with open(path_text2sql_results, 'r') as json_file:\n",
    "    json_list = list(json_file)\n",
    "\n",
    "for json_str in json_list:\n",
    "    result = json.loads(json_str)\n",
    "    \n",
    "    table_id = result[\"table_id\"]\n",
    "    \n",
    "    if table_id in ('1-1046170-5'\n",
    "                    ,'1-1061075-1'\n",
    "                    ,'1-10015132-9'\n",
    "                    ,'1-10015132-11'\n",
    "                    ,'1-10026563-1'\n",
    "                    ,'1-10295819-2'\n",
    "                    ,'1-10429820-13'\n",
    "                   ):\n",
    "        table_file_path = '../data/01_raw/wiki-sql/tables/{}.csv'.format(table_id)\n",
    "        text_question = result[\"nlu\"]\n",
    "        sql_original = result[\"sql\"]\n",
    "        print(sql_original)\n",
    "        \n",
    "        sql = replace_table_id_with_table_name_in_sql(sql_original, table_id)\n",
    "        \n",
    "        condition_infos = result[\"query\"].get(\"conds\")\n",
    "\n",
    "        if condition_infos:\n",
    "            sql = replace_enclosed_where_conditions_with_quotes(sql, condition_infos)\n",
    "    \n",
    "        if condition_infos:\n",
    "            sql = insert_clean_column_names(sql, condition_infos, table_id)\n",
    "        \n",
    "        print(sql)\n",
    "        print('\\n')"
   ]
  },
  {
   "cell_type": "code",
   "execution_count": null,
   "metadata": {},
   "outputs": [],
   "source": []
  },
  {
   "cell_type": "code",
   "execution_count": null,
   "metadata": {},
   "outputs": [],
   "source": []
  },
  {
   "cell_type": "code",
   "execution_count": null,
   "metadata": {},
   "outputs": [],
   "source": []
  },
  {
   "cell_type": "code",
   "execution_count": null,
   "metadata": {},
   "outputs": [],
   "source": []
  },
  {
   "cell_type": "code",
   "execution_count": null,
   "metadata": {},
   "outputs": [],
   "source": []
  },
  {
   "cell_type": "code",
   "execution_count": null,
   "metadata": {},
   "outputs": [],
   "source": []
  },
  {
   "cell_type": "code",
   "execution_count": null,
   "metadata": {},
   "outputs": [],
   "source": []
  },
  {
   "cell_type": "code",
   "execution_count": null,
   "metadata": {},
   "outputs": [],
   "source": []
  },
  {
   "cell_type": "code",
   "execution_count": null,
   "metadata": {},
   "outputs": [],
   "source": []
  },
  {
   "cell_type": "code",
   "execution_count": null,
   "metadata": {},
   "outputs": [],
   "source": []
  }
 ],
 "metadata": {
  "kernelspec": {
   "display_name": "Python 3",
   "language": "python",
   "name": "python3"
  },
  "language_info": {
   "codemirror_mode": {
    "name": "ipython",
    "version": 3
   },
   "file_extension": ".py",
   "mimetype": "text/x-python",
   "name": "python",
   "nbconvert_exporter": "python",
   "pygments_lexer": "ipython3",
   "version": "3.7.4"
  }
 },
 "nbformat": 4,
 "nbformat_minor": 2
}
