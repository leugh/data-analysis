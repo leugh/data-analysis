{
 "cells": [
  {
   "cell_type": "markdown",
   "metadata": {},
   "source": [
    "In this notebook I am building the logic that converts the raw sql into a sql that can be processed.\n",
    "\n",
    "Example: \n",
    "Convert \"'SELECT (U.S. Open Cup) FROM 1-1046170-5 WHERE Regular Season = 4th, atlantic division' (the original sql\" to \"\""
   ]
  },
  {
   "cell_type": "code",
   "execution_count": 1,
   "metadata": {},
   "outputs": [],
   "source": [
    "import json\n",
    "import pandas as pd"
   ]
  },
  {
   "cell_type": "code",
   "execution_count": 2,
   "metadata": {},
   "outputs": [],
   "source": [
    "path_text2sql_results = '/Users/bleopold/OneDrive/data-analysis/results_from_sqlova/results_dev.jsonl'\n",
    "\n",
    "path_dev_tables = '/Users/bleopold/OneDrive/data-analysis/vendors/WikiSQL/data/dev.tables.jsonl'"
   ]
  },
  {
   "cell_type": "markdown",
   "metadata": {},
   "source": [
    "# Get the data I need"
   ]
  },
  {
   "cell_type": "code",
   "execution_count": 3,
   "metadata": {},
   "outputs": [],
   "source": [
    "# get names of all the tables for which I have data\n",
    "with open(path_dev_tables, 'r') as json_file:\n",
    "    dev_tables_raw_file = list(json_file)\n",
    "\n",
    "tables_with_data = []\n",
    "\n",
    "for json_str in dev_tables_raw_file:\n",
    "    result = json.loads(json_str)\n",
    "    table_id = result[\"id\"]\n",
    "    \n",
    "    tables_with_data.append(table_id)"
   ]
  },
  {
   "cell_type": "code",
   "execution_count": 4,
   "metadata": {},
   "outputs": [],
   "source": [
    "# for all these tables I have a text to sql result\n",
    "with open(path_text2sql_results, 'r') as json_file:\n",
    "    text2sql_results_raw_file = list(json_file)\n",
    "\n",
    "tables_with_text2sql_result = []\n",
    "\n",
    "for json_str in text2sql_results_raw_file:\n",
    "    result = json.loads(json_str)\n",
    "    table_id = result[\"table_id\"]\n",
    "    \n",
    "    tables_with_text2sql_result.append(table_id)\n",
    "    \n",
    "tables_with_text2sql_result = list(set(tables_with_text2sql_result))"
   ]
  },
  {
   "cell_type": "code",
   "execution_count": 5,
   "metadata": {},
   "outputs": [],
   "source": [
    "# for all these tables I have data and a text to sql result\n",
    "\"\"\"\n",
    "get the intersect of tables_with_data and tables_with_text2sql_result\n",
    "\"\"\"\n",
    "ids_usable_tables = [_ for _ in tables_with_text2sql_result if _ in tables_with_data]"
   ]
  },
  {
   "cell_type": "code",
   "execution_count": 30,
   "metadata": {},
   "outputs": [
    {
     "data": {
      "text/html": [
       "<div>\n",
       "<style scoped>\n",
       "    .dataframe tbody tr th:only-of-type {\n",
       "        vertical-align: middle;\n",
       "    }\n",
       "\n",
       "    .dataframe tbody tr th {\n",
       "        vertical-align: top;\n",
       "    }\n",
       "\n",
       "    .dataframe thead th {\n",
       "        text-align: right;\n",
       "    }\n",
       "</style>\n",
       "<table border=\"1\" class=\"dataframe\">\n",
       "  <thead>\n",
       "    <tr style=\"text-align: right;\">\n",
       "      <th></th>\n",
       "      <th>table_id</th>\n",
       "      <th>table_name</th>\n",
       "    </tr>\n",
       "  </thead>\n",
       "  <tbody>\n",
       "    <tr>\n",
       "      <th>0</th>\n",
       "      <td>1-10015132-9</td>\n",
       "      <td>toronto_raptors_all-time_roster</td>\n",
       "    </tr>\n",
       "    <tr>\n",
       "      <th>1</th>\n",
       "      <td>1-10015132-9</td>\n",
       "      <td>toronto_raptors_all-time_roster</td>\n",
       "    </tr>\n",
       "  </tbody>\n",
       "</table>\n",
       "</div>"
      ],
      "text/plain": [
       "       table_id                       table_name\n",
       "0  1-10015132-9  toronto_raptors_all-time_roster\n",
       "1  1-10015132-9  toronto_raptors_all-time_roster"
      ]
     },
     "execution_count": 30,
     "metadata": {},
     "output_type": "execute_result"
    }
   ],
   "source": [
    "mapping_table_id_table_name = pd.read_csv(\n",
    "        \"../data/01_raw/wiki-sql/schema_infos/mapping_table_id_table_name.csv\"\n",
    "        ,  sep = '\\t'\n",
    "    )\n",
    "\n",
    "mapping_table_id_table_name"
   ]
  },
  {
   "cell_type": "markdown",
   "metadata": {},
   "source": [
    "# Define functions"
   ]
  },
  {
   "cell_type": "code",
   "execution_count": 6,
   "metadata": {},
   "outputs": [],
   "source": [
    "def replace_table_id_with_table_name_in_sql(sql, table_id):\n",
    "    # holds the table_id in one column and the table_name in the other column\n",
    "    mapping_table_id_table_name = pd.read_csv(\n",
    "        \"../data/01_raw/wiki-sql/schema_infos/mapping_table_id_table_name.csv\"\n",
    "        ,  sep = '\\t'\n",
    "    )\n",
    "    \n",
    "    \n",
    "    # get the table_name using table_id\n",
    "    table_name = list(mapping_table_id_table_name[\n",
    "        mapping_table_id_table_name[\"table_id\"]==table_id\n",
    "    ][\"table_name\"])[0]\n",
    "    \n",
    "    \n",
    "    \n",
    "    # replace table_id for table_name in the original sql\n",
    "    sql_clean_table_name = sql.replace(table_id, table_name)\n",
    "    \n",
    "    return sql_clean_table_name"
   ]
  },
  {
   "cell_type": "code",
   "execution_count": 7,
   "metadata": {},
   "outputs": [],
   "source": [
    "def replace_enclosed_where_conditions_with_quotes(sql, condition_infos):\n",
    "    \"\"\"\n",
    "    example for condition_infos: [[3, 0, '4th, atlantic division']]\n",
    "    \n",
    "    place each condition in the array between dobles quotes\n",
    "    \"\"\"\n",
    "    for condition_info in condition_infos:\n",
    "        condition_value_orig = condition_info[2]\n",
    "        condition_value_quoted = \"'{}'\".format(condition_value_orig)\n",
    "        sql = sql.replace(condition_value_orig, condition_value_quoted)\n",
    "\n",
    "    return sql"
   ]
  },
  {
   "cell_type": "code",
   "execution_count": 32,
   "metadata": {},
   "outputs": [],
   "source": [
    "def insert_clean_column_names(sql, condition_infos, table_id):\n",
    "    mapping_column_names = pd.read_csv(\n",
    "        \"../data/01_raw/wiki-sql/schema_infos/information_schema.csv\"\n",
    "        ,  sep = '\\t'\n",
    "    )\n",
    "    \n",
    "    for condition_info in condition_infos:\n",
    "        column_order = condition_info[0]\n",
    "    \n",
    "    \n",
    "        column_name_original  = list(\n",
    "            mapping_column_names[\n",
    "                (mapping_column_names[\"table_id\"] == table_id)\n",
    "                &\n",
    "                (mapping_column_names[\"column_order\"] == column_order)\n",
    "            ][\"column_name_original\"]\n",
    "        )[0]\n",
    "\n",
    "        column_name_clean  = list(\n",
    "            mapping_column_names[\n",
    "                (mapping_column_names[\"table_id\"] == table_id)\n",
    "                &\n",
    "                (mapping_column_names[\"column_order\"] == column_order)\n",
    "            ][\"column_name_clean\"]\n",
    "        )[0]\n",
    "\n",
    "\n",
    "        sql = sql.replace(column_name_original, column_name_clean)\n",
    "        \n",
    "        \n",
    "    return sql"
   ]
  },
  {
   "cell_type": "markdown",
   "metadata": {},
   "source": [
    "# Convert original sql to parse-able sql"
   ]
  },
  {
   "cell_type": "code",
   "execution_count": 42,
   "metadata": {},
   "outputs": [
    {
     "name": "stdout",
     "output_type": "stream",
     "text": [
      "{'query': {'agg': 0, 'sel': 0, 'conds': [[5, 0, 'westchester high school']]}, 'table_id': '1-10015132-9', 'nlu': 'Who are all of the players on the Westchester High School club team?', 'sql': 'SELECT (Player) FROM 1-10015132-9 WHERE School/Club Team = westchester high school'}\n",
      "SELECT (player) FROM toronto_raptors_all-time_roster WHERE schoolclub_team = 'westchester high school'\n",
      "\n",
      "\n",
      "{'query': {'agg': 0, 'sel': 5, 'conds': [[0, 0, 'amir johnson']]}, 'table_id': '1-10015132-9', 'nlu': 'What school/club team is Amir Johnson on?', 'sql': 'SELECT (School/Club Team) FROM 1-10015132-9 WHERE Player = amir johnson'}\n",
      "SELECT (schoolclub_team) FROM toronto_raptors_all-time_roster WHERE player = 'amir johnson'\n",
      "\n",
      "\n",
      "{'query': {'agg': 3, 'sel': 1, 'conds': [[4, 0, '2005-06']]}, 'table_id': '1-10015132-9', 'nlu': 'What are the total amount of numbers on the Toronto team in 2005-06?', 'sql': 'SELECT count(No.) FROM 1-10015132-9 WHERE Years in Toronto = 2005-06'}\n",
      "SELECT count(no) FROM toronto_raptors_all-time_roster WHERE years_in_toronto = '2005-06'\n",
      "\n",
      "\n",
      "{'query': {'agg': 3, 'sel': 3, 'conds': [[4, 0, '2006-07']]}, 'table_id': '1-10015132-9', 'nlu': 'What are the total number of positions on the Toronto team in 2006-07?', 'sql': 'SELECT count(Position) FROM 1-10015132-9 WHERE Years in Toronto = 2006-07'}\n",
      "SELECT count(position) FROM toronto_raptors_all-time_roster WHERE years_in_toronto = '2006-07'\n",
      "\n",
      "\n",
      "{'query': {'agg': 0, 'sel': 2, 'conds': [[5, 0, 'fresno state']]}, 'table_id': '1-10015132-9', 'nlu': 'What are the nationality of the players on the Fresno State school/club team?', 'sql': 'SELECT (Nationality) FROM 1-10015132-9 WHERE School/Club Team = fresno state'}\n",
      "SELECT (nationality) FROM toronto_raptors_all-time_roster WHERE schoolclub_team = 'fresno state'\n",
      "\n",
      "\n",
      "{'query': {'agg': 0, 'sel': 5, 'conds': [[0, 0, 'trey johnson']]}, 'table_id': '1-10015132-9', 'nlu': 'What school/club team is Trey Johnson on?', 'sql': 'SELECT (School/Club Team) FROM 1-10015132-9 WHERE Player = trey johnson'}\n",
      "SELECT (schoolclub_team) FROM toronto_raptors_all-time_roster WHERE player = 'trey johnson'\n",
      "\n",
      "\n"
     ]
    }
   ],
   "source": [
    "# get one sql/table for testing\n",
    "with open(path_text2sql_results, 'r') as json_file:\n",
    "    tables = list(json_file)\n",
    "\n",
    "#\n",
    "for table in tables:\n",
    "    result = json.loads(table)\n",
    "    \n",
    "    table_id = result[\"table_id\"]\n",
    "    \n",
    "    if table_id in (\n",
    "                    # '1-1046170-5'\n",
    "                    # ,'1-1061075-1'\n",
    "                    '1-10015132-9'\n",
    "                    # '1-10015132-11'\n",
    "                    # ,'1-10026563-1'\n",
    "                    # ,'1-10295819-2'\n",
    "                    # ,'1-10429820-13'\n",
    "                   ):\n",
    "        table_file_path = '../data/01_raw/wiki-sql/tables/{}.csv'.format(table_id)\n",
    "        text_question = result[\"nlu\"]\n",
    "        sql_original = result[\"sql\"]\n",
    "        \n",
    "        sql = replace_table_id_with_table_name_in_sql(sql_original, table_id)\n",
    "        sql = replace_original_select_with_clean(sql, result, table_id)\n",
    "        \n",
    "        condition_infos = result[\"query\"].get(\"conds\")\n",
    "        if condition_infos:\n",
    "            sql = replace_enclosed_where_conditions_with_quotes(sql, condition_infos)\n",
    "            sql = insert_clean_column_names(sql, condition_infos, table_id)\n",
    "        \n",
    "        print(sql)\n",
    "        print('\\n')"
   ]
  },
  {
   "cell_type": "code",
   "execution_count": 40,
   "metadata": {},
   "outputs": [],
   "source": [
    "def replace_original_select_with_clean(sql, result, table_id):\n",
    "    inf_schema = pd.read_csv(\n",
    "        \"../data/01_raw/wiki-sql/schema_infos/information_schema.csv\"\n",
    "        , sep='\\t'\n",
    "    )\n",
    "    \n",
    "    # @todo: can there be more than 1 column?\n",
    "    select_column_index = result[\"query\"].get('sel')\n",
    "    \n",
    "    \n",
    "    column_name_clean = list(\n",
    "        inf_schema[\n",
    "            (inf_schema[\"table_id\"] == table_id)\n",
    "            &\n",
    "            (inf_schema[\"column_order\"] == select_column_index)\n",
    "        ][\"column_name_clean\"]\n",
    "    )[0]\n",
    "\n",
    "\n",
    "    column_name_original = list(\n",
    "            inf_schema[\n",
    "                (inf_schema[\"table_id\"] == table_id)\n",
    "                &\n",
    "                (inf_schema[\"column_order\"] == select_column_index)\n",
    "            ][\"column_name_original\"]\n",
    "        )[0]\n",
    "\n",
    "\n",
    "    sql = sql.replace(column_name_original, column_name_clean)\n",
    "    return sql"
   ]
  },
  {
   "cell_type": "markdown",
   "metadata": {},
   "source": [
    "# Probleme\n",
    "* Query selber bauen? replacing ist gefährlich\n",
    "* toronto_raptors_all-time_roster nicht korrekt slugified\n",
    "* selects dürfen nicht in klammer sein + müssen slugified sein --> ACHTUNG: darf kein einfaches replace sein nur auf den spaltennamen, weil dder spaltennamen in der tabelle auch stehen könnte --> replace auf inkl \"select\" + das aggregation (zB count)\n",
    "* Probleme mit case-sensitive"
   ]
  },
  {
   "cell_type": "code",
   "execution_count": null,
   "metadata": {},
   "outputs": [],
   "source": []
  },
  {
   "cell_type": "code",
   "execution_count": null,
   "metadata": {},
   "outputs": [],
   "source": []
  },
  {
   "cell_type": "code",
   "execution_count": null,
   "metadata": {},
   "outputs": [],
   "source": []
  },
  {
   "cell_type": "code",
   "execution_count": null,
   "metadata": {},
   "outputs": [],
   "source": []
  },
  {
   "cell_type": "code",
   "execution_count": null,
   "metadata": {},
   "outputs": [],
   "source": []
  },
  {
   "cell_type": "code",
   "execution_count": null,
   "metadata": {},
   "outputs": [],
   "source": []
  },
  {
   "cell_type": "code",
   "execution_count": null,
   "metadata": {},
   "outputs": [],
   "source": []
  },
  {
   "cell_type": "code",
   "execution_count": null,
   "metadata": {},
   "outputs": [],
   "source": []
  },
  {
   "cell_type": "code",
   "execution_count": null,
   "metadata": {},
   "outputs": [],
   "source": []
  }
 ],
 "metadata": {
  "kernelspec": {
   "display_name": "Python 3",
   "language": "python",
   "name": "python3"
  },
  "language_info": {
   "codemirror_mode": {
    "name": "ipython",
    "version": 3
   },
   "file_extension": ".py",
   "mimetype": "text/x-python",
   "name": "python",
   "nbconvert_exporter": "python",
   "pygments_lexer": "ipython3",
   "version": "3.7.4"
  }
 },
 "nbformat": 4,
 "nbformat_minor": 2
}
