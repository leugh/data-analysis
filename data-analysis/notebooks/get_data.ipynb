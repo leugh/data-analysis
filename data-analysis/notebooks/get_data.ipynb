{
 "cells": [
  {
   "cell_type": "code",
   "execution_count": 1,
   "metadata": {},
   "outputs": [],
   "source": [
    "import json\n",
    "import pandas as pd\n",
    "import re"
   ]
  },
  {
   "cell_type": "code",
   "execution_count": 2,
   "metadata": {},
   "outputs": [],
   "source": [
    "path = '/Users/bleopold/OneDrive/data-analysis/vendors/WikiSQL/data/dev.tables.jsonl'"
   ]
  },
  {
   "cell_type": "code",
   "execution_count": 3,
   "metadata": {},
   "outputs": [],
   "source": [
    "def slugify(value):\n",
    "    \"\"\"\n",
    "    Normalize string name to be able to save to disk\n",
    "    \n",
    "    Based on: https://stackoverflow.com/questions/295135/turn-a-string-into-a-valid-filename\n",
    "    \"\"\"\n",
    "    value = re.sub('[^\\w\\s-]', '', value).strip().lower()\n",
    "    value = re.sub('[^\\w\\s-]', '', value).strip().lower()\n",
    "    value = value.replace(' ', '-')\n",
    "    return value"
   ]
  },
  {
   "cell_type": "code",
   "execution_count": 4,
   "metadata": {},
   "outputs": [],
   "source": [
    "def get_table_name(result):\n",
    "    try:\n",
    "        table_name = result[\"page_title\"]\n",
    "    except KeyError as e:\n",
    "        table_name = result[\"name\"]\n",
    "        \n",
    "    table_name_clean = slugify(table_name)\n",
    "    return table_name_clean"
   ]
  },
  {
   "cell_type": "code",
   "execution_count": 5,
   "metadata": {},
   "outputs": [],
   "source": [
    "def get_data_for_table_as_df(result):\n",
    "    table_columns = result['header']\n",
    "    table_rows = result['rows']\n",
    "\n",
    "    table_df = pd.DataFrame(columns = table_columns)\n",
    "    \n",
    "    for table_row in table_rows:\n",
    "        table_row_df = pd.DataFrame(columns = table_columns, data=[table_row])\n",
    "        table_df = table_df.append(table_row_df)\n",
    "    \n",
    "    table_df.reset_index(drop=True, inplace=True)\n",
    "    return table_df"
   ]
  },
  {
   "cell_type": "code",
   "execution_count": 6,
   "metadata": {},
   "outputs": [],
   "source": [
    "with open(path, 'r') as json_file:\n",
    "    json_list = list(json_file)\n",
    "\n",
    "for json_str in json_list:\n",
    "    result = json.loads(json_str)\n",
    "    \n",
    "    table_name = get_table_name(result)\n",
    "    table = get_data_for_table_as_df(result)\n",
    "    \n",
    "    table_file_path = '../data/01_raw/wiki-sql/{}.csv'.format(table_name)\n",
    "    table.to_csv(table_file_path, sep='\\t', index=False)"
   ]
  },
  {
   "cell_type": "code",
   "execution_count": null,
   "metadata": {},
   "outputs": [],
   "source": []
  },
  {
   "cell_type": "code",
   "execution_count": 8,
   "metadata": {},
   "outputs": [
    {
     "data": {
      "text/html": [
       "<div>\n",
       "<style scoped>\n",
       "    .dataframe tbody tr th:only-of-type {\n",
       "        vertical-align: middle;\n",
       "    }\n",
       "\n",
       "    .dataframe tbody tr th {\n",
       "        vertical-align: top;\n",
       "    }\n",
       "\n",
       "    .dataframe thead th {\n",
       "        text-align: right;\n",
       "    }\n",
       "</style>\n",
       "<table border=\"1\" class=\"dataframe\">\n",
       "  <thead>\n",
       "    <tr style=\"text-align: right;\">\n",
       "      <th></th>\n",
       "      <th>Nation</th>\n",
       "      <th>Population (thousands)</th>\n",
       "      <th>Internet subscriptions (2000) (thousands of users)</th>\n",
       "      <th>Internet subscriptions (2008) (thousands of users)</th>\n",
       "      <th>% growth (2000–2008)</th>\n",
       "      <th>% Internet users</th>\n",
       "    </tr>\n",
       "  </thead>\n",
       "  <tbody>\n",
       "    <tr>\n",
       "      <th>0</th>\n",
       "      <td>Algeria</td>\n",
       "      <td>33770</td>\n",
       "      <td>50</td>\n",
       "      <td>3500</td>\n",
       "      <td>69</td>\n",
       "      <td>10</td>\n",
       "    </tr>\n",
       "    <tr>\n",
       "      <th>1</th>\n",
       "      <td>Angola</td>\n",
       "      <td>12531</td>\n",
       "      <td>30</td>\n",
       "      <td>100</td>\n",
       "      <td>233</td>\n",
       "      <td>1</td>\n",
       "    </tr>\n",
       "    <tr>\n",
       "      <th>2</th>\n",
       "      <td>Benin</td>\n",
       "      <td>8295</td>\n",
       "      <td>15</td>\n",
       "      <td>150</td>\n",
       "      <td>900</td>\n",
       "      <td>2</td>\n",
       "    </tr>\n",
       "    <tr>\n",
       "      <th>3</th>\n",
       "      <td>Botswana</td>\n",
       "      <td>1842</td>\n",
       "      <td>15</td>\n",
       "      <td>80</td>\n",
       "      <td>433</td>\n",
       "      <td>4</td>\n",
       "    </tr>\n",
       "    <tr>\n",
       "      <th>4</th>\n",
       "      <td>Burkina Faso</td>\n",
       "      <td>15265</td>\n",
       "      <td>10</td>\n",
       "      <td>80</td>\n",
       "      <td>700</td>\n",
       "      <td>1</td>\n",
       "    </tr>\n",
       "  </tbody>\n",
       "</table>\n",
       "</div>"
      ],
      "text/plain": [
       "         Nation  Population (thousands)  \\\n",
       "0       Algeria                   33770   \n",
       "1        Angola                   12531   \n",
       "2         Benin                    8295   \n",
       "3      Botswana                    1842   \n",
       "4  Burkina Faso                   15265   \n",
       "\n",
       "   Internet subscriptions (2000) (thousands of users)  \\\n",
       "0                                                 50    \n",
       "1                                                 30    \n",
       "2                                                 15    \n",
       "3                                                 15    \n",
       "4                                                 10    \n",
       "\n",
       "   Internet subscriptions (2008) (thousands of users)  % growth (2000–2008)  \\\n",
       "0                                               3500                     69   \n",
       "1                                                100                    233   \n",
       "2                                                150                    900   \n",
       "3                                                 80                    433   \n",
       "4                                                 80                    700   \n",
       "\n",
       "   % Internet users  \n",
       "0                10  \n",
       "1                 1  \n",
       "2                 2  \n",
       "3                 4  \n",
       "4                 1  "
      ]
     },
     "execution_count": 8,
     "metadata": {},
     "output_type": "execute_result"
    }
   ],
   "source": [
    "df = pd.read_csv(\"../data/01_raw/wiki-sql/internet-in-africa.csv\", sep='\\t')\n",
    "\n",
    "df.head()"
   ]
  },
  {
   "cell_type": "code",
   "execution_count": null,
   "metadata": {},
   "outputs": [],
   "source": []
  },
  {
   "cell_type": "code",
   "execution_count": null,
   "metadata": {},
   "outputs": [],
   "source": []
  },
  {
   "cell_type": "code",
   "execution_count": null,
   "metadata": {},
   "outputs": [],
   "source": []
  },
  {
   "cell_type": "code",
   "execution_count": null,
   "metadata": {},
   "outputs": [],
   "source": []
  },
  {
   "cell_type": "code",
   "execution_count": null,
   "metadata": {},
   "outputs": [],
   "source": []
  },
  {
   "cell_type": "code",
   "execution_count": null,
   "metadata": {},
   "outputs": [],
   "source": []
  }
 ],
 "metadata": {
  "kernelspec": {
   "display_name": "Python 3",
   "language": "python",
   "name": "python3"
  },
  "language_info": {
   "codemirror_mode": {
    "name": "ipython",
    "version": 3
   },
   "file_extension": ".py",
   "mimetype": "text/x-python",
   "name": "python",
   "nbconvert_exporter": "python",
   "pygments_lexer": "ipython3",
   "version": "3.7.4"
  }
 },
 "nbformat": 4,
 "nbformat_minor": 2
}
