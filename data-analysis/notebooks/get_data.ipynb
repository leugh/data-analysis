{
 "cells": [
  {
   "cell_type": "code",
   "execution_count": 1,
   "metadata": {},
   "outputs": [
    {
     "data": {
      "text/plain": [
       "'\\nI use this notebook to save the data from .json-file as a csv-file\\n'"
      ]
     },
     "execution_count": 1,
     "metadata": {},
     "output_type": "execute_result"
    }
   ],
   "source": [
    "\"\"\"\n",
    "I use this notebook to save the data from .json-file as a csv-file\n",
    "\"\"\""
   ]
  },
  {
   "cell_type": "code",
   "execution_count": 6,
   "metadata": {},
   "outputs": [],
   "source": [
    "import json\n",
    "import pandas as pd\n",
    "from helpers import slugify, get_table_id"
   ]
  },
  {
   "cell_type": "code",
   "execution_count": 7,
   "metadata": {},
   "outputs": [],
   "source": [
    "path_to_dev_tables = '/Users/bleopold/OneDrive/data-analysis/vendors/WikiSQL/data/dev.tables.jsonl'\n",
    "base_target_path = \"../data/01_raw/wiki-sql\""
   ]
  },
  {
   "cell_type": "code",
   "execution_count": 8,
   "metadata": {},
   "outputs": [],
   "source": [
    "def get_data_for_table_as_df(result):\n",
    "    table_columns = result['header']\n",
    "    table_columns = [slugify(_) for _ in table_columns]\n",
    "    \n",
    "    table_rows = result['rows']\n",
    "\n",
    "    table_df = pd.DataFrame(columns = table_columns)\n",
    "    \n",
    "    for table_row in table_rows:\n",
    "        table_row_df = pd.DataFrame(columns = table_columns, data=[table_row])\n",
    "        table_df = table_df.append(table_row_df)\n",
    "    \n",
    "    table_df.reset_index(drop=True, inplace=True)\n",
    "    return table_df"
   ]
  },
  {
   "cell_type": "markdown",
   "metadata": {},
   "source": [
    "# Get the data"
   ]
  },
  {
   "cell_type": "code",
   "execution_count": 9,
   "metadata": {},
   "outputs": [
    {
     "name": "stdout",
     "output_type": "stream",
     "text": [
      "saved table data to: ../data/01_raw/wiki-sql/1-10015132-11.csv\n",
      "saved table data to: ../data/01_raw/wiki-sql/1-10015132-9.csv\n"
     ]
    }
   ],
   "source": [
    "with open(path_to_dev_tables, 'r') as json_file:\n",
    "    json_list = list(json_file)\n",
    "\n",
    "for json_str in json_list[0:2]:\n",
    "    result = json.loads(json_str)\n",
    "    \n",
    "    # get table only if page_title exists\n",
    "    try:\n",
    "        page_title = result[\"page_title\"]\n",
    "    except KeyError as e:\n",
    "        continue\n",
    "        \n",
    "        \n",
    "    table = get_data_for_table_as_df(result)\n",
    "    \n",
    "    # save table data to disk\n",
    "    table_id = get_table_id(result)\n",
    "    table_file_path = '{}/{}.csv'.format(base_target_path, table_id)\n",
    "    print(\"saved table data to: {}\".format(table_file_path))\n",
    "    table.to_csv(table_file_path, sep='\\t', index=False)"
   ]
  },
  {
   "cell_type": "code",
   "execution_count": null,
   "metadata": {},
   "outputs": [],
   "source": []
  },
  {
   "cell_type": "code",
   "execution_count": null,
   "metadata": {},
   "outputs": [],
   "source": []
  },
  {
   "cell_type": "code",
   "execution_count": null,
   "metadata": {},
   "outputs": [],
   "source": []
  },
  {
   "cell_type": "code",
   "execution_count": null,
   "metadata": {},
   "outputs": [],
   "source": []
  },
  {
   "cell_type": "code",
   "execution_count": null,
   "metadata": {},
   "outputs": [],
   "source": []
  },
  {
   "cell_type": "code",
   "execution_count": null,
   "metadata": {},
   "outputs": [],
   "source": []
  },
  {
   "cell_type": "code",
   "execution_count": null,
   "metadata": {},
   "outputs": [],
   "source": []
  },
  {
   "cell_type": "code",
   "execution_count": null,
   "metadata": {},
   "outputs": [],
   "source": []
  },
  {
   "cell_type": "code",
   "execution_count": null,
   "metadata": {},
   "outputs": [],
   "source": []
  },
  {
   "cell_type": "code",
   "execution_count": null,
   "metadata": {},
   "outputs": [],
   "source": []
  }
 ],
 "metadata": {
  "kernelspec": {
   "display_name": "Python 3",
   "language": "python",
   "name": "python3"
  },
  "language_info": {
   "codemirror_mode": {
    "name": "ipython",
    "version": 3
   },
   "file_extension": ".py",
   "mimetype": "text/x-python",
   "name": "python",
   "nbconvert_exporter": "python",
   "pygments_lexer": "ipython3",
   "version": "3.8.5"
  }
 },
 "nbformat": 4,
 "nbformat_minor": 2
}
